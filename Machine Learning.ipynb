{
 "cells": [
  {
   "cell_type": "markdown",
   "metadata": {},
   "source": [
    "# Importing libraries"
   ]
  },
  {
   "cell_type": "code",
   "execution_count": 88,
   "metadata": {},
   "outputs": [],
   "source": [
    "import pandas as pd\n",
    "import numpy as np\n",
    "import matplotlib.pyplot as plt\n",
    "import statsmodels.api as sm "
   ]
  },
  {
   "cell_type": "markdown",
   "metadata": {},
   "source": [
    "# Task A: Regression analysis and Monte Carlo"
   ]
  },
  {
   "cell_type": "markdown",
   "metadata": {},
   "source": [
    "𝑌𝑖 = 𝛽0 + 𝛽1𝑋1,𝑖 + 𝛽2𝑋2,𝑖 + β3𝑋3,𝑖 + 𝛽4𝑋2 3,𝑖 + 𝜀𝑖"
   ]
  },
  {
   "cell_type": "markdown",
   "metadata": {},
   "source": [
    "Define the notation:\n",
    "\n",
    "Y — dependent variable\n",
    "\n",
    "X — independent variable(s)\n",
    "\n",
    "β — OLS coefficient(s)\n",
    "\n",
    "ϵ — error term"
   ]
  },
  {
   "cell_type": "code",
   "execution_count": 48,
   "metadata": {},
   "outputs": [],
   "source": [
    "randomX = pd.read_csv('randomX.csv')"
   ]
  },
  {
   "cell_type": "code",
   "execution_count": 49,
   "metadata": {},
   "outputs": [
    {
     "data": {
      "text/html": [
       "<div>\n",
       "<style scoped>\n",
       "    .dataframe tbody tr th:only-of-type {\n",
       "        vertical-align: middle;\n",
       "    }\n",
       "\n",
       "    .dataframe tbody tr th {\n",
       "        vertical-align: top;\n",
       "    }\n",
       "\n",
       "    .dataframe thead th {\n",
       "        text-align: right;\n",
       "    }\n",
       "</style>\n",
       "<table border=\"1\" class=\"dataframe\">\n",
       "  <thead>\n",
       "    <tr style=\"text-align: right;\">\n",
       "      <th></th>\n",
       "      <th>x1</th>\n",
       "      <th>x2</th>\n",
       "      <th>x3</th>\n",
       "    </tr>\n",
       "  </thead>\n",
       "  <tbody>\n",
       "    <tr>\n",
       "      <th>0</th>\n",
       "      <td>0.537667</td>\n",
       "      <td>0.840376</td>\n",
       "      <td>0.183227</td>\n",
       "    </tr>\n",
       "    <tr>\n",
       "      <th>1</th>\n",
       "      <td>1.833885</td>\n",
       "      <td>-0.888032</td>\n",
       "      <td>-1.029768</td>\n",
       "    </tr>\n",
       "    <tr>\n",
       "      <th>2</th>\n",
       "      <td>-2.258847</td>\n",
       "      <td>0.100093</td>\n",
       "      <td>0.949222</td>\n",
       "    </tr>\n",
       "    <tr>\n",
       "      <th>3</th>\n",
       "      <td>0.862173</td>\n",
       "      <td>-0.544529</td>\n",
       "      <td>0.307062</td>\n",
       "    </tr>\n",
       "  </tbody>\n",
       "</table>\n",
       "</div>"
      ],
      "text/plain": [
       "         x1        x2        x3\n",
       "0  0.537667  0.840376  0.183227\n",
       "1  1.833885 -0.888032 -1.029768\n",
       "2 -2.258847  0.100093  0.949222\n",
       "3  0.862173 -0.544529  0.307062"
      ]
     },
     "execution_count": 49,
     "metadata": {},
     "output_type": "execute_result"
    }
   ],
   "source": [
    "randomX.head(4)"
   ]
  },
  {
   "cell_type": "markdown",
   "metadata": {},
   "source": [
    "Simulate 2000 MC samples of y"
   ]
  },
  {
   "cell_type": "code",
   "execution_count": 50,
   "metadata": {},
   "outputs": [],
   "source": [
    "# Simulate 2000 MC samples of y\n",
    "n = 2000\n",
    "x1 = randomX.x1\n",
    "y = np.zeros(n)\n",
    "b_0 = 0.5\n",
    "b_1 = 1.5 \n",
    "\n",
    "y = b_0 + b_1 * x1 + np.random.normal(n,0,1)"
   ]
  },
  {
   "cell_type": "code",
   "execution_count": 51,
   "metadata": {},
   "outputs": [],
   "source": [
    "y1 = pd.DataFrame({'y':y})\n",
    "randomX_df = pd.concat([randomX, y1], axis=1)"
   ]
  },
  {
   "cell_type": "code",
   "execution_count": 52,
   "metadata": {},
   "outputs": [
    {
     "data": {
      "text/html": [
       "<div>\n",
       "<style scoped>\n",
       "    .dataframe tbody tr th:only-of-type {\n",
       "        vertical-align: middle;\n",
       "    }\n",
       "\n",
       "    .dataframe tbody tr th {\n",
       "        vertical-align: top;\n",
       "    }\n",
       "\n",
       "    .dataframe thead th {\n",
       "        text-align: right;\n",
       "    }\n",
       "</style>\n",
       "<table border=\"1\" class=\"dataframe\">\n",
       "  <thead>\n",
       "    <tr style=\"text-align: right;\">\n",
       "      <th></th>\n",
       "      <th>x1</th>\n",
       "      <th>x2</th>\n",
       "      <th>x3</th>\n",
       "      <th>y</th>\n",
       "    </tr>\n",
       "  </thead>\n",
       "  <tbody>\n",
       "    <tr>\n",
       "      <th>0</th>\n",
       "      <td>0.537667</td>\n",
       "      <td>0.840376</td>\n",
       "      <td>0.183227</td>\n",
       "      <td>2001.306501</td>\n",
       "    </tr>\n",
       "    <tr>\n",
       "      <th>1</th>\n",
       "      <td>1.833885</td>\n",
       "      <td>-0.888032</td>\n",
       "      <td>-1.029768</td>\n",
       "      <td>2003.250828</td>\n",
       "    </tr>\n",
       "    <tr>\n",
       "      <th>2</th>\n",
       "      <td>-2.258847</td>\n",
       "      <td>0.100093</td>\n",
       "      <td>0.949222</td>\n",
       "      <td>1997.111730</td>\n",
       "    </tr>\n",
       "    <tr>\n",
       "      <th>3</th>\n",
       "      <td>0.862173</td>\n",
       "      <td>-0.544529</td>\n",
       "      <td>0.307062</td>\n",
       "      <td>2001.793260</td>\n",
       "    </tr>\n",
       "    <tr>\n",
       "      <th>4</th>\n",
       "      <td>0.318765</td>\n",
       "      <td>0.303521</td>\n",
       "      <td>0.135175</td>\n",
       "      <td>2000.978148</td>\n",
       "    </tr>\n",
       "  </tbody>\n",
       "</table>\n",
       "</div>"
      ],
      "text/plain": [
       "         x1        x2        x3            y\n",
       "0  0.537667  0.840376  0.183227  2001.306501\n",
       "1  1.833885 -0.888032 -1.029768  2003.250828\n",
       "2 -2.258847  0.100093  0.949222  1997.111730\n",
       "3  0.862173 -0.544529  0.307062  2001.793260\n",
       "4  0.318765  0.303521  0.135175  2000.978148"
      ]
     },
     "execution_count": 52,
     "metadata": {},
     "output_type": "execute_result"
    }
   ],
   "source": [
    "randomX_df.head()"
   ]
  },
  {
   "cell_type": "code",
   "execution_count": 53,
   "metadata": {},
   "outputs": [],
   "source": [
    "# To estimate the constant term β0, we need to add a column of 1’s to our dataset (consider the equation if β0 was replaced with β0xi and xi=1)\n",
    "randomX_df['const'] = 1"
   ]
  },
  {
   "cell_type": "code",
   "execution_count": 54,
   "metadata": {},
   "outputs": [
    {
     "data": {
      "text/plain": [
       "statsmodels.regression.linear_model.OLS"
      ]
     },
     "execution_count": 54,
     "metadata": {},
     "output_type": "execute_result"
    }
   ],
   "source": [
    "# OLS function\n",
    "reg = sm.OLS(endog=randomX_df['y'], exog=randomX_df[['const','x1','x2','x3']], missing='drop')\n",
    "type(reg)"
   ]
  },
  {
   "cell_type": "code",
   "execution_count": 55,
   "metadata": {},
   "outputs": [
    {
     "data": {
      "text/plain": [
       "statsmodels.regression.linear_model.RegressionResultsWrapper"
      ]
     },
     "execution_count": 55,
     "metadata": {},
     "output_type": "execute_result"
    }
   ],
   "source": [
    "results = reg.fit()\n",
    "type(results)"
   ]
  },
  {
   "cell_type": "code",
   "execution_count": 56,
   "metadata": {},
   "outputs": [
    {
     "name": "stdout",
     "output_type": "stream",
     "text": [
      "                            OLS Regression Results                            \n",
      "==============================================================================\n",
      "Dep. Variable:                      y   R-squared:                       1.000\n",
      "Model:                            OLS   Adj. R-squared:                  1.000\n",
      "Method:                 Least Squares   F-statistic:                 1.136e+27\n",
      "Date:                Wed, 17 Mar 2021   Prob (F-statistic):               0.00\n",
      "Time:                        11:23:28   Log-Likelihood:                 2744.6\n",
      "No. Observations:                 100   AIC:                            -5481.\n",
      "Df Residuals:                      96   BIC:                            -5471.\n",
      "Df Model:                           3                                         \n",
      "Covariance Type:            nonrobust                                         \n",
      "==============================================================================\n",
      "                 coef    std err          t      P>|t|      [0.025      0.975]\n",
      "------------------------------------------------------------------------------\n",
      "const       2000.5000   3.03e-14   6.61e+16      0.000    2000.500    2000.500\n",
      "x1             1.5000   2.61e-14   5.76e+13      0.000       1.500       1.500\n",
      "x2           1.99e-13   3.04e-14      6.547      0.000    1.39e-13    2.59e-13\n",
      "x3         -7.816e-14   3.02e-14     -2.586      0.011   -1.38e-13   -1.82e-14\n",
      "==============================================================================\n",
      "Omnibus:                        0.544   Durbin-Watson:                   2.049\n",
      "Prob(Omnibus):                  0.762   Jarque-Bera (JB):                0.682\n",
      "Skew:                           0.083   Prob(JB):                        0.711\n",
      "Kurtosis:                       2.631   Cond. No.                         1.41\n",
      "==============================================================================\n",
      "\n",
      "Warnings:\n",
      "[1] Standard Errors assume that the covariance matrix of the errors is correctly specified.\n"
     ]
    }
   ],
   "source": [
    "print(results.summary())"
   ]
  },
  {
   "cell_type": "code",
   "execution_count": 57,
   "metadata": {},
   "outputs": [
    {
     "name": "stdout",
     "output_type": "stream",
     "text": [
      "Parameters:  const    2.000500e+03\n",
      "x1       1.500000e+00\n",
      "x2       1.989520e-13\n",
      "x3      -7.815970e-14\n",
      "dtype: float64\n",
      "R squared:  1.0\n"
     ]
    }
   ],
   "source": [
    "print('Parameters: ', results.params)\n",
    "print('R squared: ', results.rsquared)"
   ]
  },
  {
   "cell_type": "markdown",
   "metadata": {},
   "source": [
    "i. Plot a histogram for each of the estimated parameters"
   ]
  },
  {
   "cell_type": "code",
   "execution_count": 58,
   "metadata": {},
   "outputs": [],
   "source": [
    "def plot_hist(x):\n",
    "    result = plt.hist(x, bins=20, color='c', edgecolor='k', alpha=0.65)\n",
    "    plt.axvline(x.median(), color='k', linestyle='dashed', linewidth=1)\n",
    "    min_ylim, max_ylim = plt.ylim()\n",
    "    plt.text(x.median()*1.1, max_ylim*0.9, 'median: {:.2f}'.format(x.median()))"
   ]
  },
  {
   "cell_type": "code",
   "execution_count": 59,
   "metadata": {},
   "outputs": [
    {
     "data": {
      "image/png": "[encoded data removed]",
      "text/plain": [
       "<Figure size 432x288 with 1 Axes>"
      ]
     },
     "metadata": {
      "needs_background": "light"
     },
     "output_type": "display_data"
    }
   ],
   "source": [
    "plot_hist(randomX_df['x1'])"
   ]
  },
  {
   "cell_type": "code",
   "execution_count": 60,
   "metadata": {},
   "outputs": [
    {
     "data": {
      "image/png": "[encoded data removed]",
      "text/plain": [
       "<Figure size 432x288 with 1 Axes>"
      ]
     },
     "metadata": {
      "needs_background": "light"
     },
     "output_type": "display_data"
    }
   ],
   "source": [
    "plot_hist(randomX_df['x2'])"
   ]
  },
  {
   "cell_type": "code",
   "execution_count": 61,
   "metadata": {},
   "outputs": [
    {
     "data": {
      "image/png": "[encoded data removed]",
      "text/plain": [
       "<Figure size 432x288 with 1 Axes>"
      ]
     },
     "metadata": {
      "needs_background": "light"
     },
     "output_type": "display_data"
    }
   ],
   "source": [
    "plot_hist(randomX_df['x3'])"
   ]
  },
  {
   "cell_type": "markdown",
   "metadata": {},
   "source": [
    "iii.  Construct 95% confidence intervals for each parameter based on the \n",
    "simulations"
   ]
  },
  {
   "cell_type": "code",
   "execution_count": 62,
   "metadata": {},
   "outputs": [],
   "source": [
    "#Confidence Intervals Using the Normal Distribution\n",
    "\n",
    "import scipy.stats as st\n",
    "\n",
    "def conf_interval(x):\n",
    "    intv = st.norm.interval(alpha=0.95, loc=np.mean(x), scale=st.sem(x))\n",
    "    print('95% confidence interval =',intv)"
   ]
  },
  {
   "cell_type": "code",
   "execution_count": 63,
   "metadata": {},
   "outputs": [
    {
     "name": "stdout",
     "output_type": "stream",
     "text": [
      "95% confidence interval = (-0.10474066494349593, 0.35091133994550744)\n"
     ]
    }
   ],
   "source": [
    "# Confidence Intervals x1\n",
    "conf_interval(randomX_df['x1'])"
   ]
  },
  {
   "cell_type": "code",
   "execution_count": 64,
   "metadata": {},
   "outputs": [
    {
     "name": "stdout",
     "output_type": "stream",
     "text": [
      "95% confidence interval = (-0.26966791217101027, 0.12430499559860596)\n"
     ]
    }
   ],
   "source": [
    "# Confidence Intervals x2\n",
    "conf_interval(randomX_df['x2'])"
   ]
  },
  {
   "cell_type": "code",
   "execution_count": 65,
   "metadata": {},
   "outputs": [
    {
     "name": "stdout",
     "output_type": "stream",
     "text": [
      "95% confidence interval = (-0.3099873779304663, 0.08840076985791712)\n"
     ]
    }
   ],
   "source": [
    "# Confidence Intervals x3\n",
    "conf_interval(randomX_df['x3'])"
   ]
  },
  {
   "cell_type": "markdown",
   "metadata": {},
   "source": [
    "iv.  Explain in which context it would be useful to replace the OLS estimator used \n",
    "above with a logistic regression"
   ]
  },
  {
   "cell_type": "markdown",
   "metadata": {},
   "source": [
    "Linear regression gives a continuous output, but Logistic regression is a statistical method for predicting binary classes. An example of the continuous output is house price and stock price. Example's of the discrete output is predicting whether a patient has cancer or not, predicting whether the customer will churn. Linear regression is estimated using Ordinary Least Squares (OLS) while logistic regression is estimated using Maximum Likelihood Estimation (MLE) approach.\n",
    "\n",
    "In the context above we have to replace the y samples with binary classes in order for it to be used for Logistic regression."
   ]
  },
  {
   "cell_type": "markdown",
   "metadata": {},
   "source": [
    "v. Interpretation of β2 β3 β4"
   ]
  },
  {
   "cell_type": "markdown",
   "metadata": {},
   "source": [
    "The intepretation of b2 is 1.500000e+00\n",
    "\n",
    "The intepretation of b3 is -1.350031e-13\n",
    "\n",
    "The intepretation of b4 is 2.842171e-14"
   ]
  },
  {
   "cell_type": "markdown",
   "metadata": {},
   "source": [
    "# Task B: Time series"
   ]
  },
  {
   "cell_type": "code",
   "execution_count": 66,
   "metadata": {},
   "outputs": [],
   "source": [
    "from pandas.plotting import lag_plot"
   ]
  },
  {
   "cell_type": "code",
   "execution_count": 67,
   "metadata": {},
   "outputs": [],
   "source": [
    "varekonsum_df = pd.read_excel('varekonsum.xlsx', usecols='C:IT' ,header=3).T\n",
    "varekonsum_df = varekonsum_df.dropna(axis=1)\n",
    "\n",
    "#Adjust column label\n",
    "varekonsum_df.columns = ['varekonsum']\n",
    "\n",
    "varekonsum_df.index = pd.date_range(start='31/01/2000', end='31/12/2020', freq='M')"
   ]
  },
  {
   "cell_type": "code",
   "execution_count": 68,
   "metadata": {},
   "outputs": [
    {
     "data": {
      "text/html": [
       "<div>\n",
       "<style scoped>\n",
       "    .dataframe tbody tr th:only-of-type {\n",
       "        vertical-align: middle;\n",
       "    }\n",
       "\n",
       "    .dataframe tbody tr th {\n",
       "        vertical-align: top;\n",
       "    }\n",
       "\n",
       "    .dataframe thead th {\n",
       "        text-align: right;\n",
       "    }\n",
       "</style>\n",
       "<table border=\"1\" class=\"dataframe\">\n",
       "  <thead>\n",
       "    <tr style=\"text-align: right;\">\n",
       "      <th></th>\n",
       "      <th>varekonsum</th>\n",
       "    </tr>\n",
       "  </thead>\n",
       "  <tbody>\n",
       "    <tr>\n",
       "      <th>2011-11-30</th>\n",
       "      <td>123.4</td>\n",
       "    </tr>\n",
       "    <tr>\n",
       "      <th>2012-09-30</th>\n",
       "      <td>118.2</td>\n",
       "    </tr>\n",
       "    <tr>\n",
       "      <th>2005-01-31</th>\n",
       "      <td>90.9</td>\n",
       "    </tr>\n",
       "    <tr>\n",
       "      <th>2013-01-31</th>\n",
       "      <td>119.9</td>\n",
       "    </tr>\n",
       "    <tr>\n",
       "      <th>2009-05-31</th>\n",
       "      <td>110.7</td>\n",
       "    </tr>\n",
       "    <tr>\n",
       "      <th>2013-12-31</th>\n",
       "      <td>150.4</td>\n",
       "    </tr>\n",
       "    <tr>\n",
       "      <th>2012-05-31</th>\n",
       "      <td>123.7</td>\n",
       "    </tr>\n",
       "    <tr>\n",
       "      <th>2016-03-31</th>\n",
       "      <td>122.7</td>\n",
       "    </tr>\n",
       "  </tbody>\n",
       "</table>\n",
       "</div>"
      ],
      "text/plain": [
       "            varekonsum\n",
       "2011-11-30       123.4\n",
       "2012-09-30       118.2\n",
       "2005-01-31        90.9\n",
       "2013-01-31       119.9\n",
       "2009-05-31       110.7\n",
       "2013-12-31       150.4\n",
       "2012-05-31       123.7\n",
       "2016-03-31       122.7"
      ]
     },
     "execution_count": 68,
     "metadata": {},
     "output_type": "execute_result"
    }
   ],
   "source": [
    "varekonsum_df.sample(8)"
   ]
  },
  {
   "cell_type": "markdown",
   "metadata": {},
   "source": [
    "ii. Construct a dummy variable which has zeros for each month in the sample, \n",
    "but a one for each December month. Call this variable “dum”"
   ]
  },
  {
   "cell_type": "code",
   "execution_count": 69,
   "metadata": {},
   "outputs": [],
   "source": [
    "varekonsum_df['dum'] = [1 if x == 12 else 0 for x in varekonsum_df.index.month]"
   ]
  },
  {
   "cell_type": "code",
   "execution_count": 70,
   "metadata": {},
   "outputs": [
    {
     "data": {
      "text/html": [
       "<div>\n",
       "<style scoped>\n",
       "    .dataframe tbody tr th:only-of-type {\n",
       "        vertical-align: middle;\n",
       "    }\n",
       "\n",
       "    .dataframe tbody tr th {\n",
       "        vertical-align: top;\n",
       "    }\n",
       "\n",
       "    .dataframe thead th {\n",
       "        text-align: right;\n",
       "    }\n",
       "</style>\n",
       "<table border=\"1\" class=\"dataframe\">\n",
       "  <thead>\n",
       "    <tr style=\"text-align: right;\">\n",
       "      <th></th>\n",
       "      <th>varekonsum</th>\n",
       "      <th>dum</th>\n",
       "    </tr>\n",
       "  </thead>\n",
       "  <tbody>\n",
       "    <tr>\n",
       "      <th>2000-12-31</th>\n",
       "      <td>101.0</td>\n",
       "      <td>1</td>\n",
       "    </tr>\n",
       "    <tr>\n",
       "      <th>2001-12-31</th>\n",
       "      <td>105.7</td>\n",
       "      <td>1</td>\n",
       "    </tr>\n",
       "    <tr>\n",
       "      <th>2002-12-31</th>\n",
       "      <td>109.7</td>\n",
       "      <td>1</td>\n",
       "    </tr>\n",
       "    <tr>\n",
       "      <th>2003-12-31</th>\n",
       "      <td>116.3</td>\n",
       "      <td>1</td>\n",
       "    </tr>\n",
       "    <tr>\n",
       "      <th>2004-12-31</th>\n",
       "      <td>123.7</td>\n",
       "      <td>1</td>\n",
       "    </tr>\n",
       "  </tbody>\n",
       "</table>\n",
       "</div>"
      ],
      "text/plain": [
       "            varekonsum  dum\n",
       "2000-12-31       101.0    1\n",
       "2001-12-31       105.7    1\n",
       "2002-12-31       109.7    1\n",
       "2003-12-31       116.3    1\n",
       "2004-12-31       123.7    1"
      ]
     },
     "execution_count": 70,
     "metadata": {},
     "output_type": "execute_result"
    }
   ],
   "source": [
    "varekonsum_df[varekonsum_df.index.month == 12].head()"
   ]
  },
  {
   "cell_type": "markdown",
   "metadata": {},
   "source": [
    " iii. Run the following OLS regression: 𝑌𝑡 = β0 + β1𝑡 + β2𝑑𝑢𝑚 + ε𝑡"
   ]
  },
  {
   "cell_type": "code",
   "execution_count": 71,
   "metadata": {},
   "outputs": [
    {
     "name": "stdout",
     "output_type": "stream",
     "text": [
      "                                 OLS Regression Results                                \n",
      "=======================================================================================\n",
      "Dep. Variable:             varekonsum   R-squared (uncentered):                   0.125\n",
      "Model:                            OLS   Adj. R-squared (uncentered):              0.121\n",
      "Method:                 Least Squares   F-statistic:                              35.72\n",
      "Date:                Wed, 17 Mar 2021   Prob (F-statistic):                    7.79e-09\n",
      "Time:                        11:23:31   Log-Likelihood:                         -1537.5\n",
      "No. Observations:                 252   AIC:                                      3077.\n",
      "Df Residuals:                     251   BIC:                                      3081.\n",
      "Df Model:                           1                                                  \n",
      "Covariance Type:            nonrobust                                                  \n",
      "==============================================================================\n",
      "                 coef    std err          t      P>|t|      [0.025      0.975]\n",
      "------------------------------------------------------------------------------\n",
      "dum          141.1476     23.618      5.976      0.000      94.633     187.662\n",
      "==============================================================================\n",
      "Omnibus:                      111.787   Durbin-Watson:                   0.183\n",
      "Prob(Omnibus):                  0.000   Jarque-Bera (JB):              347.462\n",
      "Skew:                          -1.998   Prob(JB):                     3.55e-76\n",
      "Kurtosis:                       7.138   Cond. No.                         1.00\n",
      "==============================================================================\n",
      "\n",
      "Warnings:\n",
      "[1] Standard Errors assume that the covariance matrix of the errors is correctly specified.\n"
     ]
    }
   ],
   "source": [
    "X = varekonsum_df['dum']\n",
    "y = varekonsum_df['varekonsum']\n",
    "\n",
    "model = sm.OLS(y, X)\n",
    "results = model.fit()\n",
    "print(results.summary())"
   ]
  },
  {
   "cell_type": "code",
   "execution_count": 72,
   "metadata": {},
   "outputs": [
    {
     "data": {
      "text/plain": [
       "<matplotlib.axes._subplots.AxesSubplot at 0x7fca2deea310>"
      ]
     },
     "execution_count": 72,
     "metadata": {},
     "output_type": "execute_result"
    },
    {
     "data": {
      "image/png": "[encoded data removed]",
      "text/plain": [
       "<Figure size 1080x432 with 2 Axes>"
      ]
     },
     "metadata": {
      "needs_background": "light"
     },
     "output_type": "display_data"
    },
    {
     "data": {
      "image/png": "[encoded data removed]",
      "text/plain": [
       "<Figure size 1080x288 with 1 Axes>"
      ]
     },
     "metadata": {
      "needs_background": "light"
     },
     "output_type": "display_data"
    }
   ],
   "source": [
    "varekonsum_df.plot(subplots=True, figsize=(15,6))\n",
    "varekonsum_df.plot(y=[\"varekonsum\", \"dum\"], figsize=(15,4))"
   ]
  },
  {
   "cell_type": "markdown",
   "metadata": {},
   "source": [
    "# Task C : Regularization and dimension reduction"
   ]
  },
  {
   "cell_type": "code",
   "execution_count": 73,
   "metadata": {},
   "outputs": [],
   "source": [
    "from sklearn.model_selection import GridSearchCV\n",
    "from sklearn.linear_model import Lasso\n",
    "from sklearn.model_selection import train_test_split\n",
    "from sklearn import model_selection\n",
    "from sklearn.metrics import mean_squared_error\n",
    "from sklearn.decomposition import PCA"
   ]
  },
  {
   "cell_type": "code",
   "execution_count": 74,
   "metadata": {},
   "outputs": [],
   "source": [
    "financial_data = pd.read_csv('2018_Financial_Data.csv')"
   ]
  },
  {
   "cell_type": "code",
   "execution_count": 75,
   "metadata": {},
   "outputs": [],
   "source": [
    "financial_data = financial_data.set_index('Unnamed: 0')\n",
    "\n",
    "financial_data['Sector'] = financial_data['Sector'].astype('category')\n",
    "financial_data['Sector'] = financial_data['Sector'].cat.codes"
   ]
  },
  {
   "cell_type": "code",
   "execution_count": 76,
   "metadata": {},
   "outputs": [],
   "source": [
    "financial_data = financial_data.fillna(0)"
   ]
  },
  {
   "cell_type": "code",
   "execution_count": 77,
   "metadata": {},
   "outputs": [
    {
     "data": {
      "text/plain": [
       "0"
      ]
     },
     "execution_count": 77,
     "metadata": {},
     "output_type": "execute_result"
    }
   ],
   "source": [
    "financial_data.isnull().sum().sum()"
   ]
  },
  {
   "cell_type": "code",
   "execution_count": 78,
   "metadata": {},
   "outputs": [
    {
     "data": {
      "text/html": [
       "<div>\n",
       "<style scoped>\n",
       "    .dataframe tbody tr th:only-of-type {\n",
       "        vertical-align: middle;\n",
       "    }\n",
       "\n",
       "    .dataframe tbody tr th {\n",
       "        vertical-align: top;\n",
       "    }\n",
       "\n",
       "    .dataframe thead th {\n",
       "        text-align: right;\n",
       "    }\n",
       "</style>\n",
       "<table border=\"1\" class=\"dataframe\">\n",
       "  <thead>\n",
       "    <tr style=\"text-align: right;\">\n",
       "      <th></th>\n",
       "      <th>Revenue</th>\n",
       "      <th>Revenue Growth</th>\n",
       "      <th>Cost of Revenue</th>\n",
       "      <th>Gross Profit</th>\n",
       "      <th>R&amp;D Expenses</th>\n",
       "      <th>SG&amp;A Expense</th>\n",
       "      <th>Operating Expenses</th>\n",
       "      <th>Operating Income</th>\n",
       "      <th>Interest Expense</th>\n",
       "      <th>Earnings before Tax</th>\n",
       "      <th>...</th>\n",
       "      <th>Receivables growth</th>\n",
       "      <th>Inventory Growth</th>\n",
       "      <th>Asset Growth</th>\n",
       "      <th>Book Value per Share Growth</th>\n",
       "      <th>Debt Growth</th>\n",
       "      <th>R&amp;D Expense Growth</th>\n",
       "      <th>SG&amp;A Expenses Growth</th>\n",
       "      <th>Sector</th>\n",
       "      <th>2019 PRICE VAR [%]</th>\n",
       "      <th>Class</th>\n",
       "    </tr>\n",
       "    <tr>\n",
       "      <th>Unnamed: 0</th>\n",
       "      <th></th>\n",
       "      <th></th>\n",
       "      <th></th>\n",
       "      <th></th>\n",
       "      <th></th>\n",
       "      <th></th>\n",
       "      <th></th>\n",
       "      <th></th>\n",
       "      <th></th>\n",
       "      <th></th>\n",
       "      <th></th>\n",
       "      <th></th>\n",
       "      <th></th>\n",
       "      <th></th>\n",
       "      <th></th>\n",
       "      <th></th>\n",
       "      <th></th>\n",
       "      <th></th>\n",
       "      <th></th>\n",
       "      <th></th>\n",
       "      <th></th>\n",
       "    </tr>\n",
       "  </thead>\n",
       "  <tbody>\n",
       "    <tr>\n",
       "      <th>CMCSA</th>\n",
       "      <td>9.450700e+10</td>\n",
       "      <td>0.1115</td>\n",
       "      <td>0.000000e+00</td>\n",
       "      <td>9.450700e+10</td>\n",
       "      <td>0.000000e+00</td>\n",
       "      <td>6.482200e+10</td>\n",
       "      <td>7.549800e+10</td>\n",
       "      <td>1.900900e+10</td>\n",
       "      <td>3.542000e+09</td>\n",
       "      <td>1.511100e+10</td>\n",
       "      <td>...</td>\n",
       "      <td>0.2570</td>\n",
       "      <td>0.0000</td>\n",
       "      <td>0.3426</td>\n",
       "      <td>0.0722</td>\n",
       "      <td>0.7309</td>\n",
       "      <td>0.0000</td>\n",
       "      <td>0.1308</td>\n",
       "      <td>2</td>\n",
       "      <td>32.794573</td>\n",
       "      <td>1</td>\n",
       "    </tr>\n",
       "    <tr>\n",
       "      <th>KMI</th>\n",
       "      <td>1.414400e+10</td>\n",
       "      <td>0.0320</td>\n",
       "      <td>7.288000e+09</td>\n",
       "      <td>6.856000e+09</td>\n",
       "      <td>0.000000e+00</td>\n",
       "      <td>6.010000e+08</td>\n",
       "      <td>3.062000e+09</td>\n",
       "      <td>3.794000e+09</td>\n",
       "      <td>1.917000e+09</td>\n",
       "      <td>2.196000e+09</td>\n",
       "      <td>...</td>\n",
       "      <td>0.0345</td>\n",
       "      <td>-0.0920</td>\n",
       "      <td>-0.0024</td>\n",
       "      <td>0.0076</td>\n",
       "      <td>-0.0137</td>\n",
       "      <td>0.0000</td>\n",
       "      <td>-0.1265</td>\n",
       "      <td>4</td>\n",
       "      <td>40.588068</td>\n",
       "      <td>1</td>\n",
       "    </tr>\n",
       "    <tr>\n",
       "      <th>INTC</th>\n",
       "      <td>7.084800e+10</td>\n",
       "      <td>0.1289</td>\n",
       "      <td>2.711100e+10</td>\n",
       "      <td>4.373700e+10</td>\n",
       "      <td>1.354300e+10</td>\n",
       "      <td>6.750000e+09</td>\n",
       "      <td>2.042100e+10</td>\n",
       "      <td>2.331600e+10</td>\n",
       "      <td>-1.260000e+08</td>\n",
       "      <td>2.331700e+10</td>\n",
       "      <td>...</td>\n",
       "      <td>0.1989</td>\n",
       "      <td>0.0387</td>\n",
       "      <td>0.0382</td>\n",
       "      <td>0.1014</td>\n",
       "      <td>-0.0169</td>\n",
       "      <td>0.0390</td>\n",
       "      <td>-0.0942</td>\n",
       "      <td>9</td>\n",
       "      <td>30.295514</td>\n",
       "      <td>1</td>\n",
       "    </tr>\n",
       "    <tr>\n",
       "      <th>MU</th>\n",
       "      <td>3.039100e+10</td>\n",
       "      <td>0.4955</td>\n",
       "      <td>1.250000e+10</td>\n",
       "      <td>1.789100e+10</td>\n",
       "      <td>2.141000e+09</td>\n",
       "      <td>8.130000e+08</td>\n",
       "      <td>2.897000e+09</td>\n",
       "      <td>1.499400e+10</td>\n",
       "      <td>3.420000e+08</td>\n",
       "      <td>1.430300e+10</td>\n",
       "      <td>...</td>\n",
       "      <td>0.4573</td>\n",
       "      <td>0.1511</td>\n",
       "      <td>0.2275</td>\n",
       "      <td>0.6395</td>\n",
       "      <td>-0.5841</td>\n",
       "      <td>0.1738</td>\n",
       "      <td>0.0942</td>\n",
       "      <td>9</td>\n",
       "      <td>64.213737</td>\n",
       "      <td>1</td>\n",
       "    </tr>\n",
       "    <tr>\n",
       "      <th>GE</th>\n",
       "      <td>1.216150e+11</td>\n",
       "      <td>0.0285</td>\n",
       "      <td>9.546100e+10</td>\n",
       "      <td>2.615400e+10</td>\n",
       "      <td>0.000000e+00</td>\n",
       "      <td>1.811100e+10</td>\n",
       "      <td>4.071100e+10</td>\n",
       "      <td>-1.455700e+10</td>\n",
       "      <td>5.059000e+09</td>\n",
       "      <td>-2.177200e+10</td>\n",
       "      <td>...</td>\n",
       "      <td>-0.2781</td>\n",
       "      <td>-0.2892</td>\n",
       "      <td>-0.1575</td>\n",
       "      <td>-0.4487</td>\n",
       "      <td>-0.2297</td>\n",
       "      <td>0.0000</td>\n",
       "      <td>0.0308</td>\n",
       "      <td>7</td>\n",
       "      <td>44.757840</td>\n",
       "      <td>1</td>\n",
       "    </tr>\n",
       "  </tbody>\n",
       "</table>\n",
       "<p>5 rows × 224 columns</p>\n",
       "</div>"
      ],
      "text/plain": [
       "                 Revenue  Revenue Growth  Cost of Revenue  Gross Profit  \\\n",
       "Unnamed: 0                                                                \n",
       "CMCSA       9.450700e+10          0.1115     0.000000e+00  9.450700e+10   \n",
       "KMI         1.414400e+10          0.0320     7.288000e+09  6.856000e+09   \n",
       "INTC        7.084800e+10          0.1289     2.711100e+10  4.373700e+10   \n",
       "MU          3.039100e+10          0.4955     1.250000e+10  1.789100e+10   \n",
       "GE          1.216150e+11          0.0285     9.546100e+10  2.615400e+10   \n",
       "\n",
       "            R&D Expenses  SG&A Expense  Operating Expenses  Operating Income  \\\n",
       "Unnamed: 0                                                                     \n",
       "CMCSA       0.000000e+00  6.482200e+10        7.549800e+10      1.900900e+10   \n",
       "KMI         0.000000e+00  6.010000e+08        3.062000e+09      3.794000e+09   \n",
       "INTC        1.354300e+10  6.750000e+09        2.042100e+10      2.331600e+10   \n",
       "MU          2.141000e+09  8.130000e+08        2.897000e+09      1.499400e+10   \n",
       "GE          0.000000e+00  1.811100e+10        4.071100e+10     -1.455700e+10   \n",
       "\n",
       "            Interest Expense  Earnings before Tax  ...  Receivables growth  \\\n",
       "Unnamed: 0                                         ...                       \n",
       "CMCSA           3.542000e+09         1.511100e+10  ...              0.2570   \n",
       "KMI             1.917000e+09         2.196000e+09  ...              0.0345   \n",
       "INTC           -1.260000e+08         2.331700e+10  ...              0.1989   \n",
       "MU              3.420000e+08         1.430300e+10  ...              0.4573   \n",
       "GE              5.059000e+09        -2.177200e+10  ...             -0.2781   \n",
       "\n",
       "            Inventory Growth  Asset Growth  Book Value per Share Growth  \\\n",
       "Unnamed: 0                                                                \n",
       "CMCSA                 0.0000        0.3426                       0.0722   \n",
       "KMI                  -0.0920       -0.0024                       0.0076   \n",
       "INTC                  0.0387        0.0382                       0.1014   \n",
       "MU                    0.1511        0.2275                       0.6395   \n",
       "GE                   -0.2892       -0.1575                      -0.4487   \n",
       "\n",
       "            Debt Growth  R&D Expense Growth  SG&A Expenses Growth  Sector  \\\n",
       "Unnamed: 0                                                                  \n",
       "CMCSA            0.7309              0.0000                0.1308       2   \n",
       "KMI             -0.0137              0.0000               -0.1265       4   \n",
       "INTC            -0.0169              0.0390               -0.0942       9   \n",
       "MU              -0.5841              0.1738                0.0942       9   \n",
       "GE              -0.2297              0.0000                0.0308       7   \n",
       "\n",
       "            2019 PRICE VAR [%]  Class  \n",
       "Unnamed: 0                             \n",
       "CMCSA                32.794573      1  \n",
       "KMI                  40.588068      1  \n",
       "INTC                 30.295514      1  \n",
       "MU                   64.213737      1  \n",
       "GE                   44.757840      1  \n",
       "\n",
       "[5 rows x 224 columns]"
      ]
     },
     "execution_count": 78,
     "metadata": {},
     "output_type": "execute_result"
    }
   ],
   "source": [
    "financial_data.head()"
   ]
  },
  {
   "cell_type": "markdown",
   "metadata": {},
   "source": [
    "i. . Explain why estimating a OLS regression will fail in this case?"
   ]
  },
  {
   "cell_type": "markdown",
   "metadata": {},
   "source": [
    "Estimating a OLS regression will fail in this case because it performs subpar when some points in the training data have excessively large or small values for the dependent variable compared to the rest of the training data. The reason for this is that since the least squares method is concerned with minimizing the sum of the squared error, any training point that has a dependent value that differs a lot from the rest of the data will have a disproportionately large effect on the resulting constants that are being solved for. And also there are too many variables in this dataset."
   ]
  },
  {
   "cell_type": "code",
   "execution_count": 79,
   "metadata": {},
   "outputs": [],
   "source": [
    "# Define Independent and dependent dataset\n",
    "X = financial_data.drop(['Dividend payments'], axis=1)\n",
    "y = financial_data['Dividend payments']"
   ]
  },
  {
   "cell_type": "code",
   "execution_count": 80,
   "metadata": {},
   "outputs": [
    {
     "name": "stdout",
     "output_type": "stream",
     "text": [
      "(3074, 223)\n",
      "(1318, 223)\n"
     ]
    }
   ],
   "source": [
    "# Split the data\n",
    "X_train, X_test, y_train, y_test = train_test_split(X, y, test_size=0.30, random_state=40)\n",
    "print(X_train.shape); print(X_test.shape)"
   ]
  },
  {
   "cell_type": "markdown",
   "metadata": {},
   "source": [
    "ii.  Run a LASSO regression where you choose the penalization parameter using \n",
    "5-fold cross validation."
   ]
  },
  {
   "cell_type": "code",
   "execution_count": 81,
   "metadata": {},
   "outputs": [
    {
     "name": "stderr",
     "output_type": "stream",
     "text": [
      "/Users/mariusringstad/opt/anaconda3/lib/python3.8/site-packages/sklearn/linear_model/_coordinate_descent.py:529: ConvergenceWarning: Objective did not converge. You might want to increase the number of iterations. Duality gap: 6.170429896791632e+19, tolerance: 1.4897894662060128e+17\n",
      "  model = cd_fast.enet_coordinate_descent(\n",
      "/Users/mariusringstad/opt/anaconda3/lib/python3.8/site-packages/sklearn/linear_model/_coordinate_descent.py:529: ConvergenceWarning: Objective did not converge. You might want to increase the number of iterations. Duality gap: 7.231136438892826e+19, tolerance: 1.9050175777383683e+17\n",
      "  model = cd_fast.enet_coordinate_descent(\n",
      "/Users/mariusringstad/opt/anaconda3/lib/python3.8/site-packages/sklearn/linear_model/_coordinate_descent.py:529: ConvergenceWarning: Objective did not converge. You might want to increase the number of iterations. Duality gap: 7.720356925701669e+19, tolerance: 1.5652946814967136e+17\n",
      "  model = cd_fast.enet_coordinate_descent(\n",
      "/Users/mariusringstad/opt/anaconda3/lib/python3.8/site-packages/sklearn/linear_model/_coordinate_descent.py:529: ConvergenceWarning: Objective did not converge. You might want to increase the number of iterations. Duality gap: 7.324733192174226e+19, tolerance: 1.7997661790703315e+17\n",
      "  model = cd_fast.enet_coordinate_descent(\n",
      "/Users/mariusringstad/opt/anaconda3/lib/python3.8/site-packages/sklearn/linear_model/_coordinate_descent.py:529: ConvergenceWarning: Objective did not converge. You might want to increase the number of iterations. Duality gap: 7.2254557896056906e+19, tolerance: 1.891538872885174e+17\n",
      "  model = cd_fast.enet_coordinate_descent(\n",
      "/Users/mariusringstad/opt/anaconda3/lib/python3.8/site-packages/sklearn/linear_model/_coordinate_descent.py:529: ConvergenceWarning: Objective did not converge. You might want to increase the number of iterations. Duality gap: 6.170429896814591e+19, tolerance: 1.4897894662060128e+17\n",
      "  model = cd_fast.enet_coordinate_descent(\n",
      "/Users/mariusringstad/opt/anaconda3/lib/python3.8/site-packages/sklearn/linear_model/_coordinate_descent.py:529: ConvergenceWarning: Objective did not converge. You might want to increase the number of iterations. Duality gap: 7.23113643891261e+19, tolerance: 1.9050175777383683e+17\n",
      "  model = cd_fast.enet_coordinate_descent(\n",
      "/Users/mariusringstad/opt/anaconda3/lib/python3.8/site-packages/sklearn/linear_model/_coordinate_descent.py:529: ConvergenceWarning: Objective did not converge. You might want to increase the number of iterations. Duality gap: 7.720356925718838e+19, tolerance: 1.5652946814967136e+17\n",
      "  model = cd_fast.enet_coordinate_descent(\n",
      "/Users/mariusringstad/opt/anaconda3/lib/python3.8/site-packages/sklearn/linear_model/_coordinate_descent.py:529: ConvergenceWarning: Objective did not converge. You might want to increase the number of iterations. Duality gap: 7.324733192202709e+19, tolerance: 1.7997661790703315e+17\n",
      "  model = cd_fast.enet_coordinate_descent(\n",
      "/Users/mariusringstad/opt/anaconda3/lib/python3.8/site-packages/sklearn/linear_model/_coordinate_descent.py:529: ConvergenceWarning: Objective did not converge. You might want to increase the number of iterations. Duality gap: 7.225455789630772e+19, tolerance: 1.891538872885174e+17\n",
      "  model = cd_fast.enet_coordinate_descent(\n",
      "/Users/mariusringstad/opt/anaconda3/lib/python3.8/site-packages/sklearn/linear_model/_coordinate_descent.py:529: ConvergenceWarning: Objective did not converge. You might want to increase the number of iterations. Duality gap: 6.1704298970213384e+19, tolerance: 1.4897894662060128e+17\n",
      "  model = cd_fast.enet_coordinate_descent(\n",
      "/Users/mariusringstad/opt/anaconda3/lib/python3.8/site-packages/sklearn/linear_model/_coordinate_descent.py:529: ConvergenceWarning: Objective did not converge. You might want to increase the number of iterations. Duality gap: 7.231136439090954e+19, tolerance: 1.9050175777383683e+17\n",
      "  model = cd_fast.enet_coordinate_descent(\n",
      "/Users/mariusringstad/opt/anaconda3/lib/python3.8/site-packages/sklearn/linear_model/_coordinate_descent.py:529: ConvergenceWarning: Objective did not converge. You might want to increase the number of iterations. Duality gap: 7.720356925873154e+19, tolerance: 1.5652946814967136e+17\n",
      "  model = cd_fast.enet_coordinate_descent(\n",
      "/Users/mariusringstad/opt/anaconda3/lib/python3.8/site-packages/sklearn/linear_model/_coordinate_descent.py:529: ConvergenceWarning: Objective did not converge. You might want to increase the number of iterations. Duality gap: 7.3247331924588495e+19, tolerance: 1.7997661790703315e+17\n",
      "  model = cd_fast.enet_coordinate_descent(\n",
      "/Users/mariusringstad/opt/anaconda3/lib/python3.8/site-packages/sklearn/linear_model/_coordinate_descent.py:529: ConvergenceWarning: Objective did not converge. You might want to increase the number of iterations. Duality gap: 7.22545578985647e+19, tolerance: 1.891538872885174e+17\n",
      "  model = cd_fast.enet_coordinate_descent(\n",
      "/Users/mariusringstad/opt/anaconda3/lib/python3.8/site-packages/sklearn/linear_model/_coordinate_descent.py:529: ConvergenceWarning: Objective did not converge. You might want to increase the number of iterations. Duality gap: 6.170429899088698e+19, tolerance: 1.4897894662060128e+17\n",
      "  model = cd_fast.enet_coordinate_descent(\n",
      "/Users/mariusringstad/opt/anaconda3/lib/python3.8/site-packages/sklearn/linear_model/_coordinate_descent.py:529: ConvergenceWarning: Objective did not converge. You might want to increase the number of iterations. Duality gap: 7.2311364408742445e+19, tolerance: 1.9050175777383683e+17\n",
      "  model = cd_fast.enet_coordinate_descent(\n",
      "/Users/mariusringstad/opt/anaconda3/lib/python3.8/site-packages/sklearn/linear_model/_coordinate_descent.py:529: ConvergenceWarning: Objective did not converge. You might want to increase the number of iterations. Duality gap: 7.720356927416448e+19, tolerance: 1.5652946814967136e+17\n",
      "  model = cd_fast.enet_coordinate_descent(\n",
      "/Users/mariusringstad/opt/anaconda3/lib/python3.8/site-packages/sklearn/linear_model/_coordinate_descent.py:529: ConvergenceWarning: Objective did not converge. You might want to increase the number of iterations. Duality gap: 7.324733195020074e+19, tolerance: 1.7997661790703315e+17\n",
      "  model = cd_fast.enet_coordinate_descent(\n",
      "/Users/mariusringstad/opt/anaconda3/lib/python3.8/site-packages/sklearn/linear_model/_coordinate_descent.py:529: ConvergenceWarning: Objective did not converge. You might want to increase the number of iterations. Duality gap: 7.2254557921133674e+19, tolerance: 1.891538872885174e+17\n",
      "  model = cd_fast.enet_coordinate_descent(\n",
      "/Users/mariusringstad/opt/anaconda3/lib/python3.8/site-packages/sklearn/linear_model/_coordinate_descent.py:529: ConvergenceWarning: Objective did not converge. You might want to increase the number of iterations. Duality gap: 6.170430126486687e+19, tolerance: 1.4897894662060128e+17\n",
      "  model = cd_fast.enet_coordinate_descent(\n",
      "/Users/mariusringstad/opt/anaconda3/lib/python3.8/site-packages/sklearn/linear_model/_coordinate_descent.py:529: ConvergenceWarning: Objective did not converge. You might want to increase the number of iterations. Duality gap: 7.23113663703254e+19, tolerance: 1.9050175777383683e+17\n",
      "  model = cd_fast.enet_coordinate_descent(\n",
      "/Users/mariusringstad/opt/anaconda3/lib/python3.8/site-packages/sklearn/linear_model/_coordinate_descent.py:529: ConvergenceWarning: Objective did not converge. You might want to increase the number of iterations. Duality gap: 7.720357097174958e+19, tolerance: 1.5652946814967136e+17\n",
      "  model = cd_fast.enet_coordinate_descent(\n",
      "/Users/mariusringstad/opt/anaconda3/lib/python3.8/site-packages/sklearn/linear_model/_coordinate_descent.py:529: ConvergenceWarning: Objective did not converge. You might want to increase the number of iterations. Duality gap: 7.324733476756304e+19, tolerance: 1.7997661790703315e+17\n",
      "  model = cd_fast.enet_coordinate_descent(\n",
      "/Users/mariusringstad/opt/anaconda3/lib/python3.8/site-packages/sklearn/linear_model/_coordinate_descent.py:529: ConvergenceWarning: Objective did not converge. You might want to increase the number of iterations. Duality gap: 7.225456040375466e+19, tolerance: 1.891538872885174e+17\n",
      "  model = cd_fast.enet_coordinate_descent(\n",
      "/Users/mariusringstad/opt/anaconda3/lib/python3.8/site-packages/sklearn/linear_model/_coordinate_descent.py:529: ConvergenceWarning: Objective did not converge. You might want to increase the number of iterations. Duality gap: 6.170431045101608e+19, tolerance: 1.4897894662060128e+17\n",
      "  model = cd_fast.enet_coordinate_descent(\n"
     ]
    },
    {
     "name": "stderr",
     "output_type": "stream",
     "text": [
      "/Users/mariusringstad/opt/anaconda3/lib/python3.8/site-packages/sklearn/linear_model/_coordinate_descent.py:529: ConvergenceWarning: Objective did not converge. You might want to increase the number of iterations. Duality gap: 7.231137429576647e+19, tolerance: 1.9050175777383683e+17\n",
      "  model = cd_fast.enet_coordinate_descent(\n",
      "/Users/mariusringstad/opt/anaconda3/lib/python3.8/site-packages/sklearn/linear_model/_coordinate_descent.py:529: ConvergenceWarning: Objective did not converge. You might want to increase the number of iterations. Duality gap: 7.720357782991441e+19, tolerance: 1.5652946814967136e+17\n",
      "  model = cd_fast.enet_coordinate_descent(\n",
      "/Users/mariusringstad/opt/anaconda3/lib/python3.8/site-packages/sklearn/linear_model/_coordinate_descent.py:529: ConvergenceWarning: Objective did not converge. You might want to increase the number of iterations. Duality gap: 7.32473461503029e+19, tolerance: 1.7997661790703315e+17\n",
      "  model = cd_fast.enet_coordinate_descent(\n",
      "/Users/mariusringstad/opt/anaconda3/lib/python3.8/site-packages/sklearn/linear_model/_coordinate_descent.py:529: ConvergenceWarning: Objective did not converge. You might want to increase the number of iterations. Duality gap: 7.225457043414867e+19, tolerance: 1.891538872885174e+17\n",
      "  model = cd_fast.enet_coordinate_descent(\n",
      "/Users/mariusringstad/opt/anaconda3/lib/python3.8/site-packages/sklearn/linear_model/_coordinate_descent.py:529: ConvergenceWarning: Objective did not converge. You might want to increase the number of iterations. Duality gap: 6.170432192998527e+19, tolerance: 1.4897894662060128e+17\n",
      "  model = cd_fast.enet_coordinate_descent(\n",
      "/Users/mariusringstad/opt/anaconda3/lib/python3.8/site-packages/sklearn/linear_model/_coordinate_descent.py:529: ConvergenceWarning: Objective did not converge. You might want to increase the number of iterations. Duality gap: 7.231138420157863e+19, tolerance: 1.9050175777383683e+17\n",
      "  model = cd_fast.enet_coordinate_descent(\n",
      "/Users/mariusringstad/opt/anaconda3/lib/python3.8/site-packages/sklearn/linear_model/_coordinate_descent.py:529: ConvergenceWarning: Objective did not converge. You might want to increase the number of iterations. Duality gap: 7.720358640089288e+19, tolerance: 1.5652946814967136e+17\n",
      "  model = cd_fast.enet_coordinate_descent(\n",
      "/Users/mariusringstad/opt/anaconda3/lib/python3.8/site-packages/sklearn/linear_model/_coordinate_descent.py:529: ConvergenceWarning: Objective did not converge. You might want to increase the number of iterations. Duality gap: 7.324736037750646e+19, tolerance: 1.7997661790703315e+17\n",
      "  model = cd_fast.enet_coordinate_descent(\n",
      "/Users/mariusringstad/opt/anaconda3/lib/python3.8/site-packages/sklearn/linear_model/_coordinate_descent.py:529: ConvergenceWarning: Objective did not converge. You might want to increase the number of iterations. Duality gap: 7.22545829712464e+19, tolerance: 1.891538872885174e+17\n",
      "  model = cd_fast.enet_coordinate_descent(\n",
      "/Users/mariusringstad/opt/anaconda3/lib/python3.8/site-packages/sklearn/linear_model/_coordinate_descent.py:529: ConvergenceWarning: Objective did not converge. You might want to increase the number of iterations. Duality gap: 6.17043448755227e+19, tolerance: 1.4897894662060128e+17\n",
      "  model = cd_fast.enet_coordinate_descent(\n",
      "/Users/mariusringstad/opt/anaconda3/lib/python3.8/site-packages/sklearn/linear_model/_coordinate_descent.py:529: ConvergenceWarning: Objective did not converge. You might want to increase the number of iterations. Duality gap: 7.2311404011000324e+19, tolerance: 1.9050175777383683e+17\n",
      "  model = cd_fast.enet_coordinate_descent(\n",
      "/Users/mariusringstad/opt/anaconda3/lib/python3.8/site-packages/sklearn/linear_model/_coordinate_descent.py:529: ConvergenceWarning: Objective did not converge. You might want to increase the number of iterations. Duality gap: 7.720360353708676e+19, tolerance: 1.5652946814967136e+17\n",
      "  model = cd_fast.enet_coordinate_descent(\n",
      "/Users/mariusringstad/opt/anaconda3/lib/python3.8/site-packages/sklearn/linear_model/_coordinate_descent.py:529: ConvergenceWarning: Objective did not converge. You might want to increase the number of iterations. Duality gap: 7.324738882783898e+19, tolerance: 1.7997661790703315e+17\n",
      "  model = cd_fast.enet_coordinate_descent(\n",
      "/Users/mariusringstad/opt/anaconda3/lib/python3.8/site-packages/sklearn/linear_model/_coordinate_descent.py:529: ConvergenceWarning: Objective did not converge. You might want to increase the number of iterations. Duality gap: 7.225460804374788e+19, tolerance: 1.891538872885174e+17\n",
      "  model = cd_fast.enet_coordinate_descent(\n",
      "/Users/mariusringstad/opt/anaconda3/lib/python3.8/site-packages/sklearn/linear_model/_coordinate_descent.py:529: ConvergenceWarning: Objective did not converge. You might want to increase the number of iterations. Duality gap: 1.0667328213118226e+20, tolerance: 2.1629184702501254e+17\n",
      "  model = cd_fast.enet_coordinate_descent(\n"
     ]
    },
    {
     "data": {
      "text/plain": [
       "GridSearchCV(cv=5, estimator=Lasso(),\n",
       "             param_grid={'alpha': [1e-08, 0.0001, 0.001, 0.01, 1, 5, 10, 20]},\n",
       "             scoring='neg_mean_squared_error')"
      ]
     },
     "execution_count": 81,
     "metadata": {},
     "output_type": "execute_result"
    }
   ],
   "source": [
    "lasso = Lasso()\n",
    "\n",
    "parameters = {'alpha': [1e-8, 1e-4, 1e-3,1e-2, 1, 5, 10, 20]}\n",
    "\n",
    "lasso_regressor = GridSearchCV(lasso, parameters, scoring='neg_mean_squared_error', cv = 5)\n",
    "\n",
    "lasso_regressor.fit(X_train, y_train)"
   ]
  },
  {
   "cell_type": "markdown",
   "metadata": {},
   "source": [
    "For this lasso regression, we are using GridSearchCV. This will allow us to automatically perform 5-fold cross-validation with a range of different regularization parameters in order to find the optimal value of alpha."
   ]
  },
  {
   "cell_type": "code",
   "execution_count": 82,
   "metadata": {},
   "outputs": [
    {
     "data": {
      "text/plain": [
       "{'alpha': 20}"
      ]
     },
     "execution_count": 82,
     "metadata": {},
     "output_type": "execute_result"
    }
   ],
   "source": [
    "lasso_regressor.best_params_"
   ]
  },
  {
   "cell_type": "code",
   "execution_count": 83,
   "metadata": {},
   "outputs": [
    {
     "data": {
      "text/plain": [
       "-1.492546989369424e+25"
      ]
     },
     "execution_count": 83,
     "metadata": {},
     "output_type": "execute_result"
    }
   ],
   "source": [
    "lasso_regressor.best_score_"
   ]
  },
  {
   "cell_type": "code",
   "execution_count": 84,
   "metadata": {},
   "outputs": [
    {
     "data": {
      "text/plain": [
       "-3.8126256210385714e+23"
      ]
     },
     "execution_count": 84,
     "metadata": {},
     "output_type": "execute_result"
    }
   ],
   "source": [
    "lasso_regressor.score(X_test, y_test)"
   ]
  },
  {
   "cell_type": "markdown",
   "metadata": {},
   "source": [
    "In this case, the optimal value for alpha is 20, the negative MSE is -1.4925 and the R squared is -3.8126 on the test set"
   ]
  },
  {
   "cell_type": "markdown",
   "metadata": {},
   "source": [
    "iii. Explain shortly why cross validation is used in C.ii. Explain shortly why cross validation, and out-of-sample testing in general, is used to avoid in-sample over-fitting.\n"
   ]
  },
  {
   "cell_type": "markdown",
   "metadata": {},
   "source": [
    "Overfitting happens when a model learns the detail and noise in the training data to the extent that it negatively impacts the performance of the model on new data. This problem can be rectified using resampling methods, which repeats a calculation multiple times using randomly selected subsets of the complete data. To avoid this we can use k-fold cross-validation.\n",
    "\n",
    "In k-fold cross-validation, the data is divided into k folds. The model is trained on k-1 folds with one fold held back for testing. This process gets repeated to ensure each fold of the dataset gets the chance to be the held back set. Once the process is completed, we can summarize the evaluation metric using the mean or/and the standard deviation."
   ]
  },
  {
   "cell_type": "markdown",
   "metadata": {},
   "source": [
    "v. Use all predictors and compute 1 common component using PCA. Plot this \n",
    "common component. "
   ]
  },
  {
   "cell_type": "code",
   "execution_count": 85,
   "metadata": {},
   "outputs": [
    {
     "name": "stdout",
     "output_type": "stream",
     "text": [
      "original shape:    (4392, 223)\n",
      "transformed shape: (4392, 1)\n"
     ]
    }
   ],
   "source": [
    "pca = PCA(n_components=1)\n",
    "pca.fit(X)\n",
    "X_pca = pca.transform(X)\n",
    "print(\"original shape:   \", X.shape)\n",
    "print(\"transformed shape:\", X_pca.shape)"
   ]
  },
  {
   "cell_type": "code",
   "execution_count": 86,
   "metadata": {},
   "outputs": [
    {
     "name": "stderr",
     "output_type": "stream",
     "text": [
      "/Users/mariusringstad/opt/anaconda3/lib/python3.8/site-packages/sklearn/linear_model/_coordinate_descent.py:529: ConvergenceWarning: Objective did not converge. You might want to increase the number of iterations. Duality gap: 1.5973369606449296e+21, tolerance: 3.201220721375451e+17\n",
      "  model = cd_fast.enet_coordinate_descent(\n"
     ]
    },
    {
     "data": {
      "text/plain": [
       "Lasso()"
      ]
     },
     "execution_count": 86,
     "metadata": {},
     "output_type": "execute_result"
    }
   ],
   "source": [
    "lasso = Lasso()\n",
    "\n",
    "lasso.fit(X_pca,y)"
   ]
  },
  {
   "cell_type": "code",
   "execution_count": 87,
   "metadata": {},
   "outputs": [
    {
     "data": {
      "text/plain": [
       "0.0009992807037743079"
      ]
     },
     "execution_count": 87,
     "metadata": {},
     "output_type": "execute_result"
    }
   ],
   "source": [
    "lasso.score(X_pca,y)"
   ]
  }
 ],
 "metadata": {
  "kernelspec": {
   "display_name": "Python 3 (ipykernel)",
   "language": "python",
   "name": "python3"
  },
  "language_info": {
   "codemirror_mode": {
    "name": "ipython",
    "version": 3
   },
   "file_extension": ".py",
   "mimetype": "text/x-python",
   "name": "python",
   "nbconvert_exporter": "python",
   "pygments_lexer": "ipython3",
   "version": "3.9.7"
  }
 },
 "nbformat": 4,
 "nbformat_minor": 4
}
